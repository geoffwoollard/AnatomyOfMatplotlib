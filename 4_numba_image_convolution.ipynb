{
  "nbformat": 4,
  "nbformat_minor": 0,
  "metadata": {
    "colab": {
      "name": "4-numba-image-convolution.ipynb",
      "provenance": [],
      "collapsed_sections": [],
      "authorship_tag": "ABX9TyO5gpQAnE1+9/Cb7YXmBomY",
      "include_colab_link": true
    },
    "kernelspec": {
      "name": "python3",
      "display_name": "Python 3"
    },
    "accelerator": "GPU"
  },
  "cells": [
    {
      "cell_type": "markdown",
      "metadata": {
        "id": "view-in-github",
        "colab_type": "text"
      },
      "source": [
        "<a href=\"https://colab.research.google.com/github/geoffwoollard/AnatomyOfMatplotlib/blob/master/4_numba_image_convolution.ipynb\" target=\"_parent\"><img src=\"https://colab.research.google.com/assets/colab-badge.svg\" alt=\"Open In Colab\"/></a>"
      ]
    },
    {
      "cell_type": "markdown",
      "metadata": {
        "id": "UYT0Ic1nfMXZ",
        "colab_type": "text"
      },
      "source": [
        "See Vincent Lunot's blog entries ([Part3](https://www.vincent-lunot.com/post/an-introduction-to-cuda-in-python-part-3/), [Part5](https://www.vincent-lunot.com/post/an-introduction-to-cuda-in-python-part-5/)) on image convolution for more detail."
      ]
    },
    {
      "cell_type": "code",
      "metadata": {
        "id": "SfxqjosIdlwb",
        "colab_type": "code",
        "colab": {}
      },
      "source": [
        "from numba import cuda\n",
        "import numpy as np\n",
        "import skimage.data\n",
        "from skimage.color import rgb2gray\n",
        "import matplotlib.pyplot as plt\n",
        "%matplotlib inline\n"
      ],
      "execution_count": 0,
      "outputs": []
    },
    {
      "cell_type": "markdown",
      "metadata": {
        "id": "73DVJFagfkOO",
        "colab_type": "text"
      },
      "source": [
        "# Reference image"
      ]
    },
    {
      "cell_type": "code",
      "metadata": {
        "id": "XVJxRKBAfsXt",
        "colab_type": "code",
        "colab": {}
      },
      "source": [
        "full_image = rgb2gray(skimage.data.coffee()).astype(np.float32) / 255\n",
        "plt.figure()\n",
        "plt.imshow(full_image, cmap='gray')\n",
        "plt.title(\"Full size image:\")\n",
        "image = full_image[150:350, 200:400].copy() # We don't want a view but an array and therefore use copy()\n",
        "plt.figure()\n",
        "plt.imshow(image, cmap='gray')\n",
        "plt.title(\"Part of the image we use:\")\n",
        "plt.show()"
      ],
      "execution_count": 0,
      "outputs": []
    },
    {
      "cell_type": "markdown",
      "metadata": {
        "id": "nUfo4Rmif5AO",
        "colab_type": "text"
      },
      "source": [
        "# Convolution Kernel"
      ]
    },
    {
      "cell_type": "code",
      "metadata": {
        "id": "hr5TYnJQfIYE",
        "colab_type": "code",
        "colab": {}
      },
      "source": [
        "@cuda.jit\n",
        "def convolve(result, mask, image):\n",
        "    # expects a 2D grid and 2D blocks,\n",
        "    # a mask with odd numbers of rows and columns, (-1-) \n",
        "    # a grayscale image\n",
        "    \n",
        "    # (-2-) 2D coordinates of the current thread:\n",
        "    i, j = cuda.grid(2) \n",
        "    \n",
        "    # (-3-) if the thread coordinates are outside of the image, we ignore the thread:\n",
        "    image_rows, image_cols = image.shape\n",
        "    if (i >= image_rows) or (j >= image_cols): \n",
        "        return\n",
        "    \n",
        "    # To compute the result at coordinates (i, j), we need to use delta_rows rows of the image \n",
        "    # before and after the i_th row, \n",
        "    # as well as delta_cols columns of the image before and after the j_th column:\n",
        "    delta_rows = mask.shape[0] // 2 \n",
        "    delta_cols = mask.shape[1] // 2\n",
        "    \n",
        "    # The result at coordinates (i, j) is equal to \n",
        "    # sum_{k, l} mask[k, l] * image[i - k + delta_rows, j - l + delta_cols]\n",
        "    # with k and l going through the whole mask array:\n",
        "    s = 0\n",
        "    for k in range(mask.shape[0]):\n",
        "        for l in range(mask.shape[1]):\n",
        "            i_k = i - k + delta_rows\n",
        "            j_l = j - l + delta_cols\n",
        "            # (-4-) Check if (i_k, j_k) coordinates are inside the image: \n",
        "            if (i_k >= 0) and (i_k < image_rows) and (j_l >= 0) and (j_l < image_cols):  \n",
        "                s += mask[k, l] * image[i_k, j_l]\n",
        "    result[i, j] = s"
      ],
      "execution_count": 0,
      "outputs": []
    },
    {
      "cell_type": "markdown",
      "metadata": {
        "id": "C_lrJUvVgDZ0",
        "colab_type": "text"
      },
      "source": [
        "# Run the kernel"
      ]
    },
    {
      "cell_type": "code",
      "metadata": {
        "id": "0bdAYu4Tf0Wz",
        "colab_type": "code",
        "colab": {}
      },
      "source": [
        "# We preallocate the result array:\n",
        "result = np.empty_like(image)\n",
        "\n",
        "# We choose a random mask:\n",
        "mask = np.random.rand(13, 13).astype(np.float32) \n",
        "mask /= mask.sum()  # We normalize the mask\n",
        "print('Mask shape:', mask.shape)\n",
        "print('Mask first (3, 3) elements:\\n', mask[:3, :3])\n",
        "\n",
        "# We use blocks of 32x32 pixels:\n",
        "blockdim = (32, 32)\n",
        "print('Blocks dimensions:', blockdim)\n",
        "\n",
        "# We compute grid dimensions big enough to cover the whole image:\n",
        "griddim = (image.shape[0] // blockdim[0] + 1, image.shape[1] // blockdim[1] + 1)\n",
        "print('Grid dimensions:', griddim)\n",
        "\n",
        "# We apply our convolution to our image:\n",
        "convolve[griddim, blockdim](result, mask, image)\n",
        "\n",
        "# We plot the result:\n",
        "plt.figure()\n",
        "plt.imshow(image, cmap='gray')\n",
        "plt.title(\"Before convolution:\")\n",
        "plt.figure()\n",
        "plt.imshow(result, cmap='gray')\n",
        "plt.title(\"After convolution:\")\n",
        "plt.show()"
      ],
      "execution_count": 0,
      "outputs": []
    },
    {
      "cell_type": "markdown",
      "metadata": {
        "id": "kcutYqICgNip",
        "colab_type": "text"
      },
      "source": [
        "# Benchmark / compare\n",
        "Our custom numba kernel vs one in `scipy`"
      ]
    },
    {
      "cell_type": "markdown",
      "metadata": {
        "id": "OkF5xhbpgdFA",
        "colab_type": "text"
      },
      "source": [
        "## Error"
      ]
    },
    {
      "cell_type": "code",
      "metadata": {
        "id": "-svQZZ05fmgx",
        "colab_type": "code",
        "colab": {}
      },
      "source": [
        "from scipy.ndimage.filters import convolve as scipy_convolve\n",
        "\n",
        "scipy_result = scipy_convolve(image, mask, mode='constant', cval=0.0, origin=0)\n",
        "print('Maximum relative error:', np.max(np.abs(result - scipy_result) / np.abs(scipy_result)))"
      ],
      "execution_count": 0,
      "outputs": []
    },
    {
      "cell_type": "markdown",
      "metadata": {
        "id": "YA2OrDHmgfYi",
        "colab_type": "text"
      },
      "source": [
        "## Timing"
      ]
    },
    {
      "cell_type": "code",
      "metadata": {
        "id": "QMjWqqr_fKeV",
        "colab_type": "code",
        "colab": {}
      },
      "source": [
        "%timeit convolve[griddim, blockdim](result, mask, image)\n"
      ],
      "execution_count": 0,
      "outputs": []
    },
    {
      "cell_type": "code",
      "metadata": {
        "id": "tWHh4gfpgiDh",
        "colab_type": "code",
        "colab": {}
      },
      "source": [
        "scipy_result = np.empty_like(image)\n",
        "%timeit scipy_convolve(image, mask, output=scipy_result, mode='constant', cval=0.0, origin=0)"
      ],
      "execution_count": 0,
      "outputs": []
    },
    {
      "cell_type": "code",
      "metadata": {
        "id": "5VJ4RGoQgr93",
        "colab_type": "code",
        "colab": {}
      },
      "source": [
        "d_image = cuda.to_device(image)\n",
        "d_mask = cuda.to_device(mask)\n",
        "d_result = cuda.to_device(result)\n",
        "%timeit convolve[griddim, blockdim](d_result, d_mask, d_image)"
      ],
      "execution_count": 0,
      "outputs": []
    }
  ]
}